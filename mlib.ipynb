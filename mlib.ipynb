{
 "cells": [
  {
   "cell_type": "code",
   "execution_count": 65,
   "id": "fifty-diploma",
   "metadata": {},
   "outputs": [],
   "source": [
    "from pyspark import SparkContext\n",
    "from pyspark.streaming import StreamingContext\n",
    "import numpy as np \n",
    "import pandas as pd\n",
    "from pyspark.mllib.clustering import KMeans,KMeansModel\n",
    "import matplotlib.pyplot as plt "
   ]
  },
  {
   "cell_type": "code",
   "execution_count": 2,
   "id": "subsequent-liability",
   "metadata": {},
   "outputs": [],
   "source": [
    "sc=SparkContext(\"local[2]\",\"regression\").getOrCreate()\n",
    "ssc=StreamingContext(sc,1)"
   ]
  },
  {
   "cell_type": "code",
   "execution_count": 39,
   "id": "broken-observer",
   "metadata": {},
   "outputs": [],
   "source": [
    "data=sc.textFile(\"C1.txt\")"
   ]
  },
  {
   "cell_type": "code",
   "execution_count": 40,
   "id": "cordless-defensive",
   "metadata": {},
   "outputs": [
    {
     "data": {
      "text/plain": [
       "['    624474    837604',\n",
       " '    673412    735362',\n",
       " '    647442    677000',\n",
       " '    532283    741384',\n",
       " '    646529    742844',\n",
       " '    647535    755101',\n",
       " '    644131    777721',\n",
       " '    521368    736923',\n",
       " '    688940    798967',\n",
       " '    592666    805244']"
      ]
     },
     "execution_count": 40,
     "metadata": {},
     "output_type": "execute_result"
    }
   ],
   "source": [
    "data.take(10)"
   ]
  },
  {
   "cell_type": "code",
   "execution_count": 41,
   "id": "superb-arrival",
   "metadata": {},
   "outputs": [],
   "source": [
    "splited=data.map(lambda line:[x for x in line.split(' ')])\n"
   ]
  },
  {
   "cell_type": "code",
   "execution_count": 42,
   "id": "thorough-resident",
   "metadata": {},
   "outputs": [
    {
     "data": {
      "text/plain": [
       "[['', '', '', '', '624474', '', '', '', '837604'],\n",
       " ['', '', '', '', '673412', '', '', '', '735362'],\n",
       " ['', '', '', '', '647442', '', '', '', '677000'],\n",
       " ['', '', '', '', '532283', '', '', '', '741384'],\n",
       " ['', '', '', '', '646529', '', '', '', '742844'],\n",
       " ['', '', '', '', '647535', '', '', '', '755101'],\n",
       " ['', '', '', '', '644131', '', '', '', '777721'],\n",
       " ['', '', '', '', '521368', '', '', '', '736923'],\n",
       " ['', '', '', '', '688940', '', '', '', '798967'],\n",
       " ['', '', '', '', '592666', '', '', '', '805244']]"
      ]
     },
     "execution_count": 42,
     "metadata": {},
     "output_type": "execute_result"
    }
   ],
   "source": [
    "splited.take(10)"
   ]
  },
  {
   "cell_type": "code",
   "execution_count": 43,
   "id": "heard-cleaner",
   "metadata": {},
   "outputs": [],
   "source": [
    "x_data=splited.map(lambda x:x[4])\n",
    "y_data=splited.map(lambda x:x[8])"
   ]
  },
  {
   "cell_type": "code",
   "execution_count": 44,
   "id": "elder-central",
   "metadata": {},
   "outputs": [],
   "source": [
    "df=pd.DataFrame([x_data.collect(),y_data.collect()]).transpose()"
   ]
  },
  {
   "cell_type": "code",
   "execution_count": 68,
   "id": "major-attendance",
   "metadata": {},
   "outputs": [],
   "source": [
    "train_data=df\n",
    "train_data=train_data.replace('',0,regex=True)"
   ]
  },
  {
   "cell_type": "code",
   "execution_count": 69,
   "id": "difficult-conspiracy",
   "metadata": {},
   "outputs": [],
   "source": [
    "train_data=train_data.astype('float')\n",
    "train_data=train_data.to_numpy()"
   ]
  },
  {
   "cell_type": "code",
   "execution_count": 70,
   "id": "driven-hostel",
   "metadata": {},
   "outputs": [],
   "source": [
    "model=KMeans.train(sc.parallelize(train_data),k=27)"
   ]
  },
  {
   "cell_type": "code",
   "execution_count": 71,
   "id": "lasting-maine",
   "metadata": {},
   "outputs": [
    {
     "data": {
      "text/plain": [
       "10425364864643.062"
      ]
     },
     "execution_count": 71,
     "metadata": {},
     "output_type": "execute_result"
    }
   ],
   "source": [
    "model.computeCost(sc.parallelize(train_data))"
   ]
  },
  {
   "cell_type": "code",
   "execution_count": 78,
   "id": "spanish-florist",
   "metadata": {},
   "outputs": [],
   "source": [
    "center=model.clusterCenters\n",
    "cx=[x[0] for x in center]\n",
    "cy=[x[1] for x in center]"
   ]
  },
  {
   "cell_type": "code",
   "execution_count": 79,
   "id": "retained-campus",
   "metadata": {},
   "outputs": [
    {
     "data": {
      "text/plain": [
       "<matplotlib.collections.PathCollection at 0x7f9503b259a0>"
      ]
     },
     "execution_count": 79,
     "metadata": {},
     "output_type": "execute_result"
    },
    {
     "data": {
      "image/png": "[encoded data removed]",
      "text/plain": [
       "<Figure size 432x288 with 1 Axes>"
      ]
     },
     "metadata": {
      "needs_background": "light"
     },
     "output_type": "display_data"
    }
   ],
   "source": [
    "plt.scatter(train_data[:,0],train_data[:,1])\n",
    "plt.scatter(cx,cy)"
   ]
  },
  {
   "cell_type": "code",
   "execution_count": 77,
   "id": "satisfied-peace",
   "metadata": {},
   "outputs": [],
   "source": []
  },
  {
   "cell_type": "code",
   "execution_count": null,
   "id": "british-brother",
   "metadata": {},
   "outputs": [],
   "source": []
  }
 ],
 "metadata": {
  "kernelspec": {
   "display_name": "Python 3",
   "language": "python",
   "name": "python3"
  },
  "language_info": {
   "codemirror_mode": {
    "name": "ipython",
    "version": 3
   },
   "file_extension": ".py",
   "mimetype": "text/x-python",
   "name": "python",
   "nbconvert_exporter": "python",
   "pygments_lexer": "ipython3",
   "version": "3.8.5"
  }
 },
 "nbformat": 4,
 "nbformat_minor": 5
}
